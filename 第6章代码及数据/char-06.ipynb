{
 "cells": [
  {
   "cell_type": "markdown",
   "metadata": {},
   "source": [
    "1、实例：用TensorFlow实现XOR"
   ]
  },
  {
   "attachments": {
    "image.png": {
     "image/png": "[encoded data removed]"
    }
   },
   "cell_type": "markdown",
   "metadata": {},
   "source": [
    "具体步骤如下：\n",
    "（1）明确输入数据、目标数据\n",
    "![image.png](attachment:image.png)\n",
    "（2）确定网络架构\n",
    "\t网络架构采用图6-27\n",
    "（3）确定几个函数\n",
    "\t激活函数、代价函数、优化算法等。这里激活函数还是使用ReLU函数，代价函数使用MSE，优化器使用Adam自适应算法。\n",
    "（4）初始化权重和偏移量等参数\n",
    "\t初始化权重和偏移量，只要随机取些较小值即可，无须考虑一些特殊值，最终这些权重值或偏移量，在循环迭代中不断更新。随机生成权重初始化数据，生成的数据符合正态分布。\n",
    "（5）循环迭代\n",
    "\t循环迭代过程中参数会自动更新\n",
    "（6）最后打印输出\n",
    "\t以下我们用TensorFlow来实现XOR问题的详细代码，为尽量避免循环，这里采用矩阵思维，这样可以大大提升性能，尤其在深度学习环境中。如果你对TensorFlow还不是很熟悉，可以先跳过，或先看一下第9章\n"
   ]
  },
  {
   "cell_type": "code",
   "execution_count": 1,
   "metadata": {},
   "outputs": [
    {
     "name": "stdout",
     "output_type": "stream",
     "text": [
      "step: 0, loss: 0.340\n",
      "step: 200, loss: 0.250\n",
      "step: 400, loss: 0.250\n",
      "step: 600, loss: 0.250\n",
      "step: 800, loss: 0.250\n",
      "step: 1000, loss: 0.250\n",
      "step: 1200, loss: 0.250\n",
      "step: 1400, loss: 0.250\n",
      "step: 1600, loss: 0.250\n",
      "step: 1800, loss: 0.250\n",
      "X: array([[0, 0],\n",
      "       [0, 1],\n",
      "       [1, 0],\n",
      "       [1, 1]])\n",
      "pred: array([[ 0.5],\n",
      "       [ 0.5],\n",
      "       [ 0.5],\n",
      "       [ 0.5]], dtype=float32)\n"
     ]
    }
   ],
   "source": [
    "import tensorflow as tf\n",
    "import numpy as np\n",
    "\n",
    "#定义输入与目标值\n",
    "X = np.array([[0, 0], [0, 1], [1, 0], [1, 1]])\n",
    "Y = np.array([[0], [1], [1], [0]])\n",
    "\n",
    "#定义占位符，从输入或目标中按行取数据\n",
    "x = tf.placeholder(tf.float32, [None, 2])\n",
    "y = tf.placeholder(tf.float32, [None, 1])\n",
    "#初始化权重，使权重满足正态分布\n",
    "#w1是输入层到隐含层间的权重矩阵，w2是隐含层到输出层的权重\n",
    "w1 = tf.Variable(tf.random_normal([2,2]))\n",
    "w2 = tf.Variable(tf.random_normal([2,1]))\n",
    "#定义偏移量，b1为隐含层上偏移量，b2是输出层上偏移量。\n",
    "b1=tf.Variable([0.1,0.1])\n",
    "b2=tf.Variable(0.1)\n",
    "\n",
    "#利用激活函数就隐含层的输出值\n",
    "h=tf.nn.relu(tf.matmul(x,w1)+b1)\n",
    "#计算输出层的值\n",
    "out=tf.matmul(h,w2)+b2\n",
    "\n",
    "#定义代价函数或代价函数\n",
    "loss = tf.reduce_mean(tf.square(out - y))\n",
    "#利用Adam自适应优化算法\n",
    "train = tf.train.AdamOptimizer(0.1).minimize(loss)\n",
    "\n",
    "with tf.Session() as sess:\n",
    "    sess.run(tf.global_variables_initializer())\n",
    "    for i in range(2000):\n",
    "        sess.run(train, feed_dict={x: X, y: Y})\n",
    "        loss_ = sess.run(loss, feed_dict={x: X, y: Y})\n",
    "        if i%200==0 :\n",
    "            print(\"step: %d, loss: %.3f\"%(i, loss_))\n",
    "    print(\"X: %r\"%X)\n",
    "    print(\"pred: %r\"%sess.run(out, feed_dict={x: X}))\n"
   ]
  },
  {
   "cell_type": "markdown",
   "metadata": {},
   "source": [
    "2、实例：用keras构建深度学习架构"
   ]
  },
  {
   "cell_type": "code",
   "execution_count": null,
   "metadata": {},
   "outputs": [],
   "source": [
    "\n",
    "#构建模型\n",
    "model = Sequential()\n",
    "#往模型中添加一层，神经元个数，激活函数及指明输入数据维度。\n",
    "model.add(Dense(32, activation='relu', input_dim=784))\n",
    "#再添加一层，神经元个数及激活函数\n",
    "model.add(Dense(1, activation='sigmoid'))\n",
    "#编译模型，指明所用优化器，代价函数及度量方式等\n",
    "model.compile(optimizer='Adam',loss='binary_crossentropy',metrics=['accuracy'])\n",
    "#训练模型，指明训练的数据集，循环次数，输出详细程度，批量大小等信息\n",
    "model.fit(x_train, y_train, epochs=10,verbose=2, batch_size=32,)"
   ]
  },
  {
   "cell_type": "code",
   "execution_count": null,
   "metadata": {
    "collapsed": true
   },
   "outputs": [],
   "source": []
  }
 ],
 "metadata": {
  "kernelspec": {
   "display_name": "Python 3",
   "language": "python",
   "name": "python3"
  },
  "language_info": {
   "codemirror_mode": {
    "name": "ipython",
    "version": 3
   },
   "file_extension": ".py",
   "mimetype": "text/x-python",
   "name": "python",
   "nbconvert_exporter": "python",
   "pygments_lexer": "ipython3",
   "version": "3.6.3"
  }
 },
 "nbformat": 4,
 "nbformat_minor": 2
}
