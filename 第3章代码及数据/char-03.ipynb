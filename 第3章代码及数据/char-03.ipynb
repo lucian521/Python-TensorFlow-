{
 "cells": [
  {
   "cell_type": "markdown",
   "metadata": {},
   "source": [
    "3.1标量、向量、矩阵和张量"
   ]
  },
  {
   "cell_type": "code",
   "execution_count": 1,
   "metadata": {},
   "outputs": [
    {
     "name": "stdout",
     "output_type": "stream",
     "text": [
      "5\n",
      "1 2 4 8\n"
     ]
    }
   ],
   "source": [
    "import numpy as np\n",
    "\n",
    "a=np.array([1,2,4,3,8])\n",
    "print(a.size)\n",
    "print(a[0],a[1],a[2],a[-1])\n"
   ]
  },
  {
   "cell_type": "markdown",
   "metadata": {},
   "source": [
    "3.矩阵（matrix）"
   ]
  },
  {
   "cell_type": "code",
   "execution_count": 2,
   "metadata": {},
   "outputs": [
    {
     "name": "stdout",
     "output_type": "stream",
     "text": [
      "[[1 2 3]\n",
      " [4 5 6]]\n",
      "6\n",
      "(2, 3)\n",
      "1 2 5\n",
      "[4 5 6]\n"
     ]
    }
   ],
   "source": [
    "import numpy as np\n",
    "\n",
    "A=np.array([[1,2,3],[4,5,6]])\n",
    "print(A)\n",
    "print(A.size)    #显示矩阵元素总个数\n",
    "print(A.shape)   #显示矩阵现状，即行行和列数。\n",
    "print(A[0,0],A[0,1],A[1,1])\n",
    "print(A[1,:])  #打印矩阵第2行\n"
   ]
  },
  {
   "cell_type": "markdown",
   "metadata": {},
   "source": [
    "4.张量（tensor）"
   ]
  },
  {
   "cell_type": "code",
   "execution_count": 3,
   "metadata": {},
   "outputs": [
    {
     "name": "stdout",
     "output_type": "stream",
     "text": [
      "[[[ 0  1  2  3]\n",
      "  [ 4  5  6  7]]\n",
      "\n",
      " [[ 8  9 10 11]\n",
      "  [12 13 14 15]]]\n",
      "16\n",
      "(2, 2, 4)\n",
      "0 1 5\n",
      "[4 5 6 7]\n"
     ]
    }
   ],
   "source": [
    "B=np.arange(16).reshape((2, 2, 4))   #生成一个3阶矩阵\n",
    "print(B)\n",
    "print(B.size)    #显示矩阵元素总数\n",
    "print(B.shape)   #显示矩阵的维度\n",
    "print(B[0,0,0],B[0,0,1],B[0,1,1])\n",
    "print(B[0,1,:])\n"
   ]
  },
  {
   "cell_type": "markdown",
   "metadata": {},
   "source": [
    "5.转置(transpose) "
   ]
  },
  {
   "cell_type": "code",
   "execution_count": 4,
   "metadata": {},
   "outputs": [
    {
     "name": "stdout",
     "output_type": "stream",
     "text": [
      "[[1 2 3]\n",
      " [4 5 6]]\n",
      "[[1 4]\n",
      " [2 5]\n",
      " [3 6]]\n"
     ]
    }
   ],
   "source": [
    "C=np.array([[1,2,3],[4,5,6]])\n",
    "D=C.T       #利用张量的T属性(即转置属性)\n",
    "print(C)\n",
    "print(D)\n"
   ]
  },
  {
   "cell_type": "markdown",
   "metadata": {},
   "source": [
    "3.2矩阵和向量运算"
   ]
  },
  {
   "cell_type": "code",
   "execution_count": 5,
   "metadata": {},
   "outputs": [
    {
     "name": "stdout",
     "output_type": "stream",
     "text": [
      "[[11 22 33]\n",
      " [14 25 36]]\n"
     ]
    }
   ],
   "source": [
    "C=np.array([[1,2,3],[4,5,6]])\n",
    "b=np.array([10,20,30])\n",
    "D=C+b\n",
    "print(D)\n"
   ]
  },
  {
   "cell_type": "markdown",
   "metadata": {},
   "source": [
    "3.5范数"
   ]
  },
  {
   "cell_type": "code",
   "execution_count": 6,
   "metadata": {},
   "outputs": [
    {
     "name": "stdout",
     "output_type": "stream",
     "text": [
      "[ 0.   0.1  0.2  0.3  0.4  0.5  0.6  0.7  0.8  0.9]\n",
      "4.5\n",
      "1.68819430161\n",
      "0.9\n"
     ]
    }
   ],
   "source": [
    "import numpy  as np\n",
    "import numpy.linalg as LA      #导入Numpy中线性代数库\n",
    "\n",
    "x=np.arange(0,1,0.1)  #自动生成一个[0,1)间的10个数，步长为0.1\n",
    "print(x)\n",
    "\n",
    "x1= LA.norm(x,1)            #计算1范数\n",
    "x2= LA.norm(x,2)            #计算2范数\n",
    "xa=LA.norm(x,np.inf)        #计算无穷范数\n",
    "print(x1)\n",
    "print(x2)\n",
    "print(xa)\n"
   ]
  },
  {
   "cell_type": "markdown",
   "metadata": {},
   "source": [
    "3.6特征值分解"
   ]
  },
  {
   "cell_type": "code",
   "execution_count": 7,
   "metadata": {},
   "outputs": [
    {
     "name": "stdout",
     "output_type": "stream",
     "text": [
      "[-0.37228132  5.37228132]\n",
      "[-0.37228132  5.37228132]\n",
      "[[-0.82456484 -0.41597356]\n",
      " [ 0.56576746 -0.90937671]]\n"
     ]
    }
   ],
   "source": [
    "import numpy as np\n",
    "\n",
    "a = np.array([[1,2],[3,4]]) # 示例矩阵\n",
    "A1 = np.linalg.eigvals(a)  # 得到特征值\n",
    "A2,V1 = np.linalg.eig(a) # 其中A2也是特征值，B为特征向量\n",
    "print(A1)\n",
    "print(A2)\n",
    "print(V1)\n"
   ]
  },
  {
   "cell_type": "markdown",
   "metadata": {},
   "source": [
    "3.7奇异值分解"
   ]
  },
  {
   "cell_type": "code",
   "execution_count": 8,
   "metadata": {},
   "outputs": [
    {
     "name": "stdout",
     "output_type": "stream",
     "text": [
      "[  1.09824632e+01   8.79229347e+00   1.03974857e+00   1.18321522e-15\n",
      "   2.13044868e-32]\n",
      "[[ 10.98246322   0.           0.        ]\n",
      " [  0.           8.79229347   0.        ]\n",
      " [  0.           0.           1.03974857]]\n"
     ]
    }
   ],
   "source": [
    "import numpy as np\n",
    "\n",
    "Data=np.mat([[1,1,1,0,0],  \n",
    "             [2,2,2,0,0],  \n",
    "             [3,3,3,0,0],  \n",
    "             [5,5,3,2,2],  \n",
    "             [0,0,0,3,3],  \n",
    "             [0,0,0,6,6]])\n",
    "\n",
    "u,sigma,vt=np.linalg.svd(Data)\n",
    "#print(u)\n",
    "print(sigma)\n",
    "#转换为对角矩阵\n",
    "diagv=np.mat([[sigma[0],0,0],[0,sigma[1],0],[0,0,sigma[2]]])  \n",
    "print(diagv)\n",
    "#print(vt)\n"
   ]
  },
  {
   "cell_type": "markdown",
   "metadata": {},
   "source": [
    "3.8迹运算"
   ]
  },
  {
   "cell_type": "code",
   "execution_count": 9,
   "metadata": {},
   "outputs": [
    {
     "name": "stdout",
     "output_type": "stream",
     "text": [
      "15\n",
      "15\n",
      "171\n",
      "171\n"
     ]
    }
   ],
   "source": [
    "C=np.array([[1,2,3],[4,5,6],[7,8,9]])\n",
    "TrC=np.trace(C)\n",
    "\n",
    "D=C-2\n",
    "TrCT=np.trace(C.T)\n",
    "TrCD=np.trace(np.dot(C,D))\n",
    "TrDC=np.trace(np.dot(D,C))\n",
    "print(TrC)\n",
    "print(TrCT)\n",
    "print(TrCD)\n",
    "print(TrDC)\n"
   ]
  },
  {
   "cell_type": "markdown",
   "metadata": {},
   "source": [
    "3.9实例：Python实现主成分分析"
   ]
  },
  {
   "cell_type": "code",
   "execution_count": 10,
   "metadata": {
    "collapsed": true
   },
   "outputs": [],
   "source": [
    "from sklearn.datasets import load_iris\n",
    "import numpy as np\n",
    "from numpy.linalg import eig\n",
    "\n",
    "def pca(X, k):\n",
    "    # Standardize by remove average\n",
    "    X = X - X.mean(axis = 0)\n",
    "\n",
    "    # Calculate covariance matrix:\n",
    "    X_cov = np.cov(X.T, ddof = 0)\n",
    "\n",
    "    # Calculate  eigenvalues and eigenvectors of covariance matrix\n",
    "    eigenvalues, eigenvectors = eig(X_cov)\n",
    "\n",
    "    # top k large eigenvectors\n",
    "    klarge_index = eigenvalues.argsort()[-k:][::-1]\n",
    "    k_eigenvectors = eigenvectors[klarge_index]\n",
    "\n",
    "    return np.dot(X, k_eigenvectors.T)\n",
    "\n",
    "iris = load_iris() \n",
    "X = iris.data\n",
    "k = 2  #选取贡献最大的前2个特征\n",
    "\n",
    "X_pca = pca(X, k)\n"
   ]
  },
  {
   "cell_type": "markdown",
   "metadata": {},
   "source": [
    "我们看一下各特征值的贡献率"
   ]
  },
  {
   "cell_type": "code",
   "execution_count": 11,
   "metadata": {},
   "outputs": [
    {
     "data": {
      "image/png": "[encoded data removed]",
      "text/plain": [
       "<matplotlib.figure.Figure at 0x7fade9d02ba8>"
      ]
     },
     "metadata": {},
     "output_type": "display_data"
    }
   ],
   "source": [
    "import numpy as np\n",
    "import seaborn as sns\n",
    "import matplotlib.pyplot as plt\n",
    "from sklearn.datasets import load_iris\n",
    "from numpy.linalg import eig\n",
    "%matplotlib inline\n",
    "\n",
    "iris = load_iris() \n",
    "X = iris.data\n",
    "X = X - X.mean(axis = 0)\n",
    "\n",
    "# 计算协方差矩阵\n",
    "X_cov = np.cov(X.T, ddof = 0)\n",
    "\n",
    "#计算协方差矩阵的特征值和特征向量\n",
    "eigenvalues, eigenvectors = eig(X_cov)\n",
    "\n",
    "tot=sum(eigenvalues)\n",
    "var_exp=[(i / tot) for i in sorted(eigenvalues,reverse=True)]\n",
    "cum_var_exp=np.cumsum(var_exp)\n",
    "plt.bar(range(1,5),var_exp,alpha=0.5,align='center',label='individual var')\n",
    "plt.step(range(1,5),cum_var_exp,where='mid',label='cumulative var')\n",
    "plt.ylabel('variance rtion')\n",
    "plt.xlabel('principal components')\n",
    "plt.legend(loc='best')\n",
    "plt.show()\n"
   ]
  },
  {
   "cell_type": "code",
   "execution_count": null,
   "metadata": {
    "collapsed": true
   },
   "outputs": [],
   "source": []
  }
 ],
 "metadata": {
  "kernelspec": {
   "display_name": "Python 3",
   "language": "python",
   "name": "python3"
  },
  "language_info": {
   "codemirror_mode": {
    "name": "ipython",
    "version": 3
   },
   "file_extension": ".py",
   "mimetype": "text/x-python",
   "name": "python",
   "nbconvert_exporter": "python",
   "pygments_lexer": "ipython3",
   "version": "3.6.3"
  }
 },
 "nbformat": 4,
 "nbformat_minor": 2
}
