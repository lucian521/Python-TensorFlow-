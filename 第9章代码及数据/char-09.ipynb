{
 "cells": [
  {
   "attachments": {
    "image.png": {
     "image/png": "[encoded data removed]"
    }
   },
   "cell_type": "markdown",
   "metadata": {},
   "source": [
    "![image.png](attachment:image.png)"
   ]
  },
  {
   "cell_type": "markdown",
   "metadata": {},
   "source": [
    "上图，数据流图由节点a, b, c, d, e 和相应的边组成，有两个输入和一个输出，其运算可通过以下代码实现："
   ]
  },
  {
   "cell_type": "code",
   "execution_count": 5,
   "metadata": {},
   "outputs": [
    {
     "name": "stdout",
     "output_type": "stream",
     "text": [
      "14\n"
     ]
    }
   ],
   "source": [
    "a=2;\n",
    "b=4\n",
    "c=a*b; \n",
    "d=a+b\n",
    "e=c+d\n",
    "print(e)\n"
   ]
  },
  {
   "cell_type": "markdown",
   "metadata": {},
   "source": [
    "如果要使用Graph，首先是创建Graph，然后用with语句，通知TensorFlow我们需要把一些op添加到指定的Graph中。如："
   ]
  },
  {
   "cell_type": "code",
   "execution_count": null,
   "metadata": {
    "collapsed": true
   },
   "outputs": [],
   "source": [
    "import tensorflow as tf\n",
    "#创建一个新的数据流图\n",
    "graph=tf.Graph()\n",
    "#使用with指定其后的一些op添加到这个Graph中\n",
    "with graph.as_default():\n",
    "    a=tf.add(2,4)\n",
    "    b=tf.multiply(2,4)\n"
   ]
  },
  {
   "cell_type": "markdown",
   "metadata": {},
   "source": [
    "如果有多个Graph时，建议不使用缺省的Graph或者为其分配一个句柄，否则容易导致混乱。一般采用如下方法："
   ]
  },
  {
   "cell_type": "code",
   "execution_count": null,
   "metadata": {
    "collapsed": true
   },
   "outputs": [],
   "source": [
    "import tensorflow as tf\n",
    "\n",
    "graph1=tf.Graph()\n",
    "graph2=tf.Graph()  #或 graph2=tf.get_default_graph()\n",
    "\n",
    "with graph1.as_default():\n",
    "    #定义graph1的op、tensor等\n",
    "\n",
    "with graph2.as_default():\n",
    "    #定义graph1的op、tensor等\n"
   ]
  },
  {
   "cell_type": "markdown",
   "metadata": {},
   "source": [
    "feed_dict参数可以用于覆盖图中的Tensor值，这需要一个python字典对象作为输入。字典的key是引用的Tensor对象，可以被覆盖，key可以是数字、字符串、列表以及Numpy 数组等。字典中的value必须是与key同类型（或者是可以转化为统一类型），示例如下"
   ]
  },
  {
   "cell_type": "code",
   "execution_count": 6,
   "metadata": {
    "collapsed": true
   },
   "outputs": [],
   "source": [
    "import tensorflow as tf\n",
    "\n",
    "a=tf.add(2,4)\n",
    "b=tf.multiply(a,5)\n",
    "\n",
    "sess=tf.Session()\n",
    "#定义一个字典，将a的值替换为100\n",
    "dict={a:100}\n",
    "sess.run(b,feed_dict=dict)  #返回值为500，而不是30\n",
    "sess.close() #关闭session，以便释放资源"
   ]
  },
  {
   "cell_type": "markdown",
   "metadata": {},
   "source": [
    "常量（constant）"
   ]
  },
  {
   "cell_type": "code",
   "execution_count": 7,
   "metadata": {},
   "outputs": [
    {
     "name": "stdout",
     "output_type": "stream",
     "text": [
      "result_a: 1.0\n",
      "result_b: [[ 3.  3.]\n",
      " [ 3.  3.]]\n"
     ]
    }
   ],
   "source": [
    "import tensorflow as tf\n",
    "\n",
    "#构建计算图\n",
    "a=tf.constant(1.,name=\"a\")\n",
    "b=tf.constant(3.,shape=[2,2],name=\"b\")\n",
    "\n",
    "#创建会话\n",
    "sess=tf.Session()\n",
    "\n",
    "#执行会话\n",
    "result_a=sess.run([a,b])\n",
    "print(\"result_a:\",result_a[0])\n",
    "print(\"result_b:\",result_a[1])\n"
   ]
  },
  {
   "cell_type": "markdown",
   "metadata": {},
   "source": [
    "1、变量"
   ]
  },
  {
   "cell_type": "markdown",
   "metadata": {},
   "source": [
    "如何创建、初始化、保存及恢复变量？以下我们通过一些实例来详细说明："
   ]
  },
  {
   "cell_type": "markdown",
   "metadata": {},
   "source": [
    "（1）创建模型的权重及偏置"
   ]
  },
  {
   "cell_type": "code",
   "execution_count": 8,
   "metadata": {
    "collapsed": true
   },
   "outputs": [],
   "source": [
    "import tensorflow as tf\n",
    "\n",
    "weights = tf.Variable(tf.random_normal([784, 200], stddev=0.35), name=\"weights\")\n",
    "biases = tf.Variable(tf.zeros([200]), name=\"biases\")\n"
   ]
  },
  {
   "cell_type": "markdown",
   "metadata": {},
   "source": [
    "（2）初始化变量"
   ]
  },
  {
   "cell_type": "code",
   "execution_count": 9,
   "metadata": {
    "collapsed": true
   },
   "outputs": [],
   "source": [
    "init_op = tf.global_variables_initializer()\n",
    "sess=tf.Session()\n",
    "sess.run(init_op)\n"
   ]
  },
  {
   "cell_type": "markdown",
   "metadata": {},
   "source": [
    "(3)保存模型变量"
   ]
  },
  {
   "cell_type": "code",
   "execution_count": 49,
   "metadata": {},
   "outputs": [
    {
     "data": {
      "text/plain": [
       "'./tmp/model/-100'"
      ]
     },
     "execution_count": 49,
     "metadata": {},
     "output_type": "execute_result"
    }
   ],
   "source": [
    "import os\n",
    "\n",
    "if not os.path.exists('tmp/model'):\n",
    "     %mkdir -p tmp/model\n",
    "\n",
    "\n",
    "saver = tf.train.Saver()\n",
    "saver.save(sess, './tmp/model/',global_step=100)\n"
   ]
  },
  {
   "cell_type": "markdown",
   "metadata": {},
   "source": [
    "(4)恢复模型变量"
   ]
  },
  {
   "cell_type": "code",
   "execution_count": 50,
   "metadata": {},
   "outputs": [
    {
     "name": "stdout",
     "output_type": "stream",
     "text": [
      "INFO:tensorflow:Restoring parameters from ./tmp/model/-100\n"
     ]
    }
   ],
   "source": [
    "#先加载 meta graph并恢复权重变量\n",
    "saver = tf.train.import_meta_graph('./tmp/model/-100.meta')\n",
    "saver.restore(sess,tf.train.latest_checkpoint('./tmp/model/'))\n"
   ]
  },
  {
   "cell_type": "markdown",
   "metadata": {},
   "source": [
    "(5)查看恢复后的变量"
   ]
  },
  {
   "cell_type": "code",
   "execution_count": 51,
   "metadata": {},
   "outputs": [
    {
     "name": "stdout",
     "output_type": "stream",
     "text": [
      "[ 0.  0.  0.  0.  0.  0.  0.  0.  0.  0.  0.  0.  0.  0.  0.  0.  0.  0.\n",
      "  0.  0.  0.  0.  0.  0.  0.  0.  0.  0.  0.  0.  0.  0.  0.  0.  0.  0.\n",
      "  0.  0.  0.  0.  0.  0.  0.  0.  0.  0.  0.  0.  0.  0.  0.  0.  0.  0.\n",
      "  0.  0.  0.  0.  0.  0.  0.  0.  0.  0.  0.  0.  0.  0.  0.  0.  0.  0.\n",
      "  0.  0.  0.  0.  0.  0.  0.  0.  0.  0.  0.  0.  0.  0.  0.  0.  0.  0.\n",
      "  0.  0.  0.  0.  0.  0.  0.  0.  0.  0.  0.  0.  0.  0.  0.  0.  0.  0.\n",
      "  0.  0.  0.  0.  0.  0.  0.  0.  0.  0.  0.  0.  0.  0.  0.  0.  0.  0.\n",
      "  0.  0.  0.  0.  0.  0.  0.  0.  0.  0.  0.  0.  0.  0.  0.  0.  0.  0.\n",
      "  0.  0.  0.  0.  0.  0.  0.  0.  0.  0.  0.  0.  0.  0.  0.  0.  0.  0.\n",
      "  0.  0.  0.  0.  0.  0.  0.  0.  0.  0.  0.  0.  0.  0.  0.  0.  0.  0.\n",
      "  0.  0.  0.  0.  0.  0.  0.  0.  0.  0.  0.  0.  0.  0.  0.  0.  0.  0.\n",
      "  0.  0.]\n"
     ]
    }
   ],
   "source": [
    "print(sess.run('biases:0'))"
   ]
  },
  {
   "cell_type": "markdown",
   "metadata": {},
   "source": [
    "2.共享模型变量"
   ]
  },
  {
   "cell_type": "markdown",
   "metadata": {},
   "source": [
    "共享模型变量使用示例如下："
   ]
  },
  {
   "cell_type": "code",
   "execution_count": null,
   "metadata": {
    "collapsed": true
   },
   "outputs": [],
   "source": [
    "#定义卷积神经网络运算规则，其中weights和biases为共享变量\n",
    "\n",
    "def conv_relu(input, kernel_shape, bias_shape):\n",
    "    # 创建变量\"weights\"\n",
    "    weights = tf.get_variable(\"weights\", kernel_shape, initializer=tf.random_normal_initializer())\n",
    "\n",
    "    # 创建变量 \"biases\"\n",
    "    biases = tf.get_variable(\"biases\", bias_shape, initializer=tf.constant_initializer(0.0))\n",
    "    conv = tf.nn.conv2d(input, weights, strides=[1, 1, 1, 1], padding='SAME')\n",
    "    return tf.nn.relu(conv + biases)\n",
    "\n",
    "#定义卷积层，conv1和conv2为变量命名空间\n",
    "with tf.variable_scope(\"conv1\"):\n",
    "    # 创建变量 \"conv1/weights\", \"conv1/biases\".\n",
    "    relu1 = conv_relu(input_images, [5, 5, 32, 32], [32])\n",
    "with tf.variable_scope(\"conv2\"):\n",
    "    # 创建变量 \"conv2/weights\", \"conv2/biases\".\n",
    "    relu1 = conv_relu(relu1, [5, 5, 32, 32], [32])\n"
   ]
  },
  {
   "cell_type": "markdown",
   "metadata": {},
   "source": [
    "3.variables与get_variables的区别"
   ]
  },
  {
   "cell_type": "markdown",
   "metadata": {},
   "source": [
    "使用tf.Variable时，如果检测到命名冲突，系统会自己处理。使用tf.get_variable()时，系统不会处理冲突，而会报错。"
   ]
  },
  {
   "cell_type": "code",
   "execution_count": 52,
   "metadata": {},
   "outputs": [
    {
     "name": "stdout",
     "output_type": "stream",
     "text": [
      "w_1:0\n",
      "w_1_1:0\n"
     ]
    }
   ],
   "source": [
    "import tensorflow as tf\n",
    "w_1 = tf.Variable(3,name=\"w_1\")\n",
    "w_2 = tf.Variable(1,name=\"w_1\")\n",
    "print( w_1.name)\n",
    "print( w_2.name)\n"
   ]
  },
  {
   "cell_type": "code",
   "execution_count": 53,
   "metadata": {},
   "outputs": [
    {
     "ename": "ValueError",
     "evalue": "Variable w_1 already exists, disallowed. Did you mean to set reuse=True or reuse=tf.AUTO_REUSE in VarScope? Originally defined at:\n\n  File \"<ipython-input-53-4ad8806618f8>\", line 3, in <module>\n    w_1 = tf.get_variable(name=\"w_1\",initializer=1)\n  File \"/home/wumg/anaconda3/lib/python3.6/site-packages/IPython/core/interactiveshell.py\", line 2862, in run_code\n    exec(code_obj, self.user_global_ns, self.user_ns)\n  File \"/home/wumg/anaconda3/lib/python3.6/site-packages/IPython/core/interactiveshell.py\", line 2802, in run_ast_nodes\n    if self.run_code(code, result):\n",
     "output_type": "error",
     "traceback": [
      "\u001b[0;31m---------------------------------------------------------------------------\u001b[0m",
      "\u001b[0;31mValueError\u001b[0m                                Traceback (most recent call last)",
      "\u001b[0;32m<ipython-input-53-4ad8806618f8>\u001b[0m in \u001b[0;36m<module>\u001b[0;34m()\u001b[0m\n\u001b[1;32m      2\u001b[0m \u001b[0;34m\u001b[0m\u001b[0m\n\u001b[1;32m      3\u001b[0m \u001b[0mw_1\u001b[0m \u001b[0;34m=\u001b[0m \u001b[0mtf\u001b[0m\u001b[0;34m.\u001b[0m\u001b[0mget_variable\u001b[0m\u001b[0;34m(\u001b[0m\u001b[0mname\u001b[0m\u001b[0;34m=\u001b[0m\u001b[0;34m\"w_1\"\u001b[0m\u001b[0;34m,\u001b[0m\u001b[0minitializer\u001b[0m\u001b[0;34m=\u001b[0m\u001b[0;36m1\u001b[0m\u001b[0;34m)\u001b[0m\u001b[0;34m\u001b[0m\u001b[0m\n\u001b[0;32m----> 4\u001b[0;31m \u001b[0mw_2\u001b[0m \u001b[0;34m=\u001b[0m \u001b[0mtf\u001b[0m\u001b[0;34m.\u001b[0m\u001b[0mget_variable\u001b[0m\u001b[0;34m(\u001b[0m\u001b[0mname\u001b[0m\u001b[0;34m=\u001b[0m\u001b[0;34m\"w_1\"\u001b[0m\u001b[0;34m,\u001b[0m\u001b[0minitializer\u001b[0m\u001b[0;34m=\u001b[0m\u001b[0;36m2\u001b[0m\u001b[0;34m)\u001b[0m\u001b[0;34m\u001b[0m\u001b[0m\n\u001b[0m",
      "\u001b[0;32m~/anaconda3/lib/python3.6/site-packages/tensorflow/python/ops/variable_scope.py\u001b[0m in \u001b[0;36mget_variable\u001b[0;34m(name, shape, dtype, initializer, regularizer, trainable, collections, caching_device, partitioner, validate_shape, use_resource, custom_getter, constraint)\u001b[0m\n\u001b[1;32m   1295\u001b[0m       \u001b[0mpartitioner\u001b[0m\u001b[0;34m=\u001b[0m\u001b[0mpartitioner\u001b[0m\u001b[0;34m,\u001b[0m \u001b[0mvalidate_shape\u001b[0m\u001b[0;34m=\u001b[0m\u001b[0mvalidate_shape\u001b[0m\u001b[0;34m,\u001b[0m\u001b[0;34m\u001b[0m\u001b[0m\n\u001b[1;32m   1296\u001b[0m       \u001b[0muse_resource\u001b[0m\u001b[0;34m=\u001b[0m\u001b[0muse_resource\u001b[0m\u001b[0;34m,\u001b[0m \u001b[0mcustom_getter\u001b[0m\u001b[0;34m=\u001b[0m\u001b[0mcustom_getter\u001b[0m\u001b[0;34m,\u001b[0m\u001b[0;34m\u001b[0m\u001b[0m\n\u001b[0;32m-> 1297\u001b[0;31m       constraint=constraint)\n\u001b[0m\u001b[1;32m   1298\u001b[0m get_variable_or_local_docstring = (\n\u001b[1;32m   1299\u001b[0m     \"\"\"%s\n",
      "\u001b[0;32m~/anaconda3/lib/python3.6/site-packages/tensorflow/python/ops/variable_scope.py\u001b[0m in \u001b[0;36mget_variable\u001b[0;34m(self, var_store, name, shape, dtype, initializer, regularizer, reuse, trainable, collections, caching_device, partitioner, validate_shape, use_resource, custom_getter, constraint)\u001b[0m\n\u001b[1;32m   1091\u001b[0m           \u001b[0mpartitioner\u001b[0m\u001b[0;34m=\u001b[0m\u001b[0mpartitioner\u001b[0m\u001b[0;34m,\u001b[0m \u001b[0mvalidate_shape\u001b[0m\u001b[0;34m=\u001b[0m\u001b[0mvalidate_shape\u001b[0m\u001b[0;34m,\u001b[0m\u001b[0;34m\u001b[0m\u001b[0m\n\u001b[1;32m   1092\u001b[0m           \u001b[0muse_resource\u001b[0m\u001b[0;34m=\u001b[0m\u001b[0muse_resource\u001b[0m\u001b[0;34m,\u001b[0m \u001b[0mcustom_getter\u001b[0m\u001b[0;34m=\u001b[0m\u001b[0mcustom_getter\u001b[0m\u001b[0;34m,\u001b[0m\u001b[0;34m\u001b[0m\u001b[0m\n\u001b[0;32m-> 1093\u001b[0;31m           constraint=constraint)\n\u001b[0m\u001b[1;32m   1094\u001b[0m \u001b[0;34m\u001b[0m\u001b[0m\n\u001b[1;32m   1095\u001b[0m   def _get_partitioned_variable(self,\n",
      "\u001b[0;32m~/anaconda3/lib/python3.6/site-packages/tensorflow/python/ops/variable_scope.py\u001b[0m in \u001b[0;36mget_variable\u001b[0;34m(self, name, shape, dtype, initializer, regularizer, reuse, trainable, collections, caching_device, partitioner, validate_shape, use_resource, custom_getter, constraint)\u001b[0m\n\u001b[1;32m    437\u001b[0m           \u001b[0mcaching_device\u001b[0m\u001b[0;34m=\u001b[0m\u001b[0mcaching_device\u001b[0m\u001b[0;34m,\u001b[0m \u001b[0mpartitioner\u001b[0m\u001b[0;34m=\u001b[0m\u001b[0mpartitioner\u001b[0m\u001b[0;34m,\u001b[0m\u001b[0;34m\u001b[0m\u001b[0m\n\u001b[1;32m    438\u001b[0m           \u001b[0mvalidate_shape\u001b[0m\u001b[0;34m=\u001b[0m\u001b[0mvalidate_shape\u001b[0m\u001b[0;34m,\u001b[0m \u001b[0muse_resource\u001b[0m\u001b[0;34m=\u001b[0m\u001b[0muse_resource\u001b[0m\u001b[0;34m,\u001b[0m\u001b[0;34m\u001b[0m\u001b[0m\n\u001b[0;32m--> 439\u001b[0;31m           constraint=constraint)\n\u001b[0m\u001b[1;32m    440\u001b[0m \u001b[0;34m\u001b[0m\u001b[0m\n\u001b[1;32m    441\u001b[0m   def _get_partitioned_variable(\n",
      "\u001b[0;32m~/anaconda3/lib/python3.6/site-packages/tensorflow/python/ops/variable_scope.py\u001b[0m in \u001b[0;36m_true_getter\u001b[0;34m(name, shape, dtype, initializer, regularizer, reuse, trainable, collections, caching_device, partitioner, validate_shape, use_resource, constraint)\u001b[0m\n\u001b[1;32m    406\u001b[0m           \u001b[0mtrainable\u001b[0m\u001b[0;34m=\u001b[0m\u001b[0mtrainable\u001b[0m\u001b[0;34m,\u001b[0m \u001b[0mcollections\u001b[0m\u001b[0;34m=\u001b[0m\u001b[0mcollections\u001b[0m\u001b[0;34m,\u001b[0m\u001b[0;34m\u001b[0m\u001b[0m\n\u001b[1;32m    407\u001b[0m           \u001b[0mcaching_device\u001b[0m\u001b[0;34m=\u001b[0m\u001b[0mcaching_device\u001b[0m\u001b[0;34m,\u001b[0m \u001b[0mvalidate_shape\u001b[0m\u001b[0;34m=\u001b[0m\u001b[0mvalidate_shape\u001b[0m\u001b[0;34m,\u001b[0m\u001b[0;34m\u001b[0m\u001b[0m\n\u001b[0;32m--> 408\u001b[0;31m           use_resource=use_resource, constraint=constraint)\n\u001b[0m\u001b[1;32m    409\u001b[0m \u001b[0;34m\u001b[0m\u001b[0m\n\u001b[1;32m    410\u001b[0m     \u001b[0;32mif\u001b[0m \u001b[0mcustom_getter\u001b[0m \u001b[0;32mis\u001b[0m \u001b[0;32mnot\u001b[0m \u001b[0;32mNone\u001b[0m\u001b[0;34m:\u001b[0m\u001b[0;34m\u001b[0m\u001b[0m\n",
      "\u001b[0;32m~/anaconda3/lib/python3.6/site-packages/tensorflow/python/ops/variable_scope.py\u001b[0m in \u001b[0;36m_get_single_variable\u001b[0;34m(self, name, shape, dtype, initializer, regularizer, partition_info, reuse, trainable, collections, caching_device, validate_shape, use_resource, constraint)\u001b[0m\n\u001b[1;32m    745\u001b[0m                          \u001b[0;34m\"reuse=tf.AUTO_REUSE in VarScope? \"\u001b[0m\u001b[0;34m\u001b[0m\u001b[0m\n\u001b[1;32m    746\u001b[0m                          \"Originally defined at:\\n\\n%s\" % (\n\u001b[0;32m--> 747\u001b[0;31m                              name, \"\".join(traceback.format_list(tb))))\n\u001b[0m\u001b[1;32m    748\u001b[0m       \u001b[0mfound_var\u001b[0m \u001b[0;34m=\u001b[0m \u001b[0mself\u001b[0m\u001b[0;34m.\u001b[0m\u001b[0m_vars\u001b[0m\u001b[0;34m[\u001b[0m\u001b[0mname\u001b[0m\u001b[0;34m]\u001b[0m\u001b[0;34m\u001b[0m\u001b[0m\n\u001b[1;32m    749\u001b[0m       \u001b[0;32mif\u001b[0m \u001b[0;32mnot\u001b[0m \u001b[0mshape\u001b[0m\u001b[0;34m.\u001b[0m\u001b[0mis_compatible_with\u001b[0m\u001b[0;34m(\u001b[0m\u001b[0mfound_var\u001b[0m\u001b[0;34m.\u001b[0m\u001b[0mget_shape\u001b[0m\u001b[0;34m(\u001b[0m\u001b[0;34m)\u001b[0m\u001b[0;34m)\u001b[0m\u001b[0;34m:\u001b[0m\u001b[0;34m\u001b[0m\u001b[0m\n",
      "\u001b[0;31mValueError\u001b[0m: Variable w_1 already exists, disallowed. Did you mean to set reuse=True or reuse=tf.AUTO_REUSE in VarScope? Originally defined at:\n\n  File \"<ipython-input-53-4ad8806618f8>\", line 3, in <module>\n    w_1 = tf.get_variable(name=\"w_1\",initializer=1)\n  File \"/home/wumg/anaconda3/lib/python3.6/site-packages/IPython/core/interactiveshell.py\", line 2862, in run_code\n    exec(code_obj, self.user_global_ns, self.user_ns)\n  File \"/home/wumg/anaconda3/lib/python3.6/site-packages/IPython/core/interactiveshell.py\", line 2802, in run_ast_nodes\n    if self.run_code(code, result):\n"
     ]
    }
   ],
   "source": [
    "import tensorflow as tf\n",
    "\n",
    "w_1 = tf.get_variable(name=\"w_1\",initializer=1)\n",
    "w_2 = tf.get_variable(name=\"w_1\",initializer=2)\n"
   ]
  },
  {
   "cell_type": "markdown",
   "metadata": {},
   "source": [
    "tf.get_variabl创建变量时，会进行变量检查，当设置为共享变量时（通过scope.reuse_variables()或tf.get_variable_scope().reuse_variables()），检查到第二个拥有相同名字的变量，就返回已创建的相同的变量；如果没有设置共享变量，则会报[ValueError: Variable varx alreadly exists, disallowed.]错误。而tf.Variable()创建变量时，name属性值允许重复，检查到相同名字的变量时，将使用自动别名机制创建不同的变量"
   ]
  },
  {
   "cell_type": "code",
   "execution_count": 54,
   "metadata": {},
   "outputs": [
    {
     "name": "stdout",
     "output_type": "stream",
     "text": [
      "True False\n",
      "<tf.Variable 'scope1/w1:0' shape=() dtype=float32_ref> <tf.Variable 'scope1_1/w2:0' shape=() dtype=float32_ref>\n"
     ]
    }
   ],
   "source": [
    "import tensorflow as tf\n",
    "\n",
    "tf.reset_default_graph()\n",
    "\n",
    "with tf.variable_scope(\"scope1\"):\n",
    "    w1 = tf.get_variable(\"w1\", shape=[])\n",
    "    w2 = tf.Variable(0.0, name=\"w2\")\n",
    "with tf.variable_scope(\"scope1\", reuse=True):\n",
    "    w1_p = tf.get_variable(\"w1\", shape=[])\n",
    "    w2_p = tf.Variable(1.0, name=\"w2\")\n",
    "\n",
    "print(w1 is w1_p, w2 is w2_p)\n",
    "print(w1_p,w2_p)\n"
   ]
  },
  {
   "cell_type": "markdown",
   "metadata": {},
   "source": [
    "4、占位符"
   ]
  },
  {
   "cell_type": "code",
   "execution_count": 56,
   "metadata": {},
   "outputs": [
    {
     "name": "stdout",
     "output_type": "stream",
     "text": [
      "Tensor(\"MatMul_1:0\", shape=(2, 2), dtype=float32)\n",
      "[[ 0.92954463  0.74770784]\n",
      " [ 0.64772862  0.81806672]]\n"
     ]
    }
   ],
   "source": [
    "import numpy as np\n",
    "\n",
    "x = tf.placeholder(tf.float32, shape=(2, 3))\n",
    "y=tf.reshape(x,[3,2])\n",
    "z= tf.matmul(x, y)\n",
    "print(z)\n",
    "\n",
    "with tf.Session() as sess:\n",
    "  #print(sess.run(y))  #不注释将报错，因没有给y输入具体数据.\n",
    "  rand_array_x = np.random.rand(2, 3)\n",
    "  rand_array_y = np.random.rand(3, 2)\n",
    "  print(sess.run(z, feed_dict={x: rand_array_x,y: rand_array_y}))  #这句成功\n"
   ]
  },
  {
   "cell_type": "markdown",
   "metadata": {},
   "source": [
    "5、实例：比较constant 、variable和 placeholder"
   ]
  },
  {
   "cell_type": "markdown",
   "metadata": {},
   "source": [
    "1）利用constant表示输入"
   ]
  },
  {
   "cell_type": "code",
   "execution_count": 57,
   "metadata": {},
   "outputs": [
    {
     "name": "stdout",
     "output_type": "stream",
     "text": [
      "输出结果: 23\n"
     ]
    }
   ],
   "source": [
    "import tensorflow as tf\n",
    "\n",
    "a=tf.constant(5,name=\"input_a\")\n",
    "b=tf.constant(3,name=\"input_b\")\n",
    "c=tf.multiply(a,b,name=\"mul_c\")\n",
    "d=tf.add(a,b,name=\"add_d\")\n",
    "e=tf.add(c,d,name=\"add_e\")\n",
    "sess=tf.Session()\n",
    "#with tf.Session() as sess:\n",
    "output=sess.run(e)   ##输出结果为23\n",
    "print(\"输出结果:\", output)\n",
    "\n",
    "writer=tf.summary.FileWriter('home/feigu/tmp',sess.graph)\n",
    "writer.close()\n",
    "sess.close()\n"
   ]
  },
  {
   "cell_type": "markdown",
   "metadata": {},
   "source": [
    "2）使用variable表示输入"
   ]
  },
  {
   "cell_type": "code",
   "execution_count": 58,
   "metadata": {},
   "outputs": [
    {
     "name": "stdout",
     "output_type": "stream",
     "text": [
      "输出结果: 23\n"
     ]
    }
   ],
   "source": [
    "import tensorflow as tf\n",
    "\n",
    "a=tf.Variable(5,name=\"input_a\")\n",
    "b=tf.Variable(3,name=\"input_b\")\n",
    "c=tf.multiply(a,b,name=\"mul_c\")\n",
    "d=tf.add(a,b,name=\"add_d\")\n",
    "e=tf.add(c,d,name=\"add_e\")\n",
    "init=tf.global_variables_initializer()\n",
    "sess=tf.Session()\n",
    "#with tf.Session() as sess:\n",
    "#init variable \n",
    "sess.run(init)\n",
    "output=sess.run(e)   ##输出结果为23\n",
    "print(\"输出结果:\", output)\n"
   ]
  },
  {
   "cell_type": "markdown",
   "metadata": {},
   "source": [
    "3）输入用向量表示"
   ]
  },
  {
   "cell_type": "code",
   "execution_count": 59,
   "metadata": {},
   "outputs": [
    {
     "name": "stdout",
     "output_type": "stream",
     "text": [
      "输出结果: 23\n"
     ]
    }
   ],
   "source": [
    "import tensorflow as tf\n",
    "\n",
    "a=tf.Variable([3,5],name=\"input_a\")\n",
    "#b=tf.Variable(3,name=\"input_b\")\n",
    "c=tf.reduce_prod(a,name=\"mul_c\")\n",
    "d=tf.reduce_sum(a,name=\"add_d\")\n",
    "e=tf.reduce_sum([c,d],name=\"add_e\")\n",
    "init=tf.global_variables_initializer()\n",
    "sess=tf.Session()\n",
    "#with tf.Session() as sess:\n",
    "#init variable \n",
    "sess.run(init)\n",
    "output=sess.run(e)   ##输出结果为23\n",
    "print(\"输出结果:\", output)\n",
    "\n",
    "writer=tf.summary.FileWriter('home/feigu/tmp',sess.graph)\n",
    "writer.close()\n",
    "sess.close()\n"
   ]
  },
  {
   "cell_type": "markdown",
   "metadata": {},
   "source": [
    "4）用placeholder表示输入"
   ]
  },
  {
   "cell_type": "code",
   "execution_count": 60,
   "metadata": {},
   "outputs": [
    {
     "name": "stdout",
     "output_type": "stream",
     "text": [
      "输出结果: 23\n"
     ]
    }
   ],
   "source": [
    "import tensorflow as tf\n",
    "\n",
    "a=tf.placeholder(tf.int8,shape=[None],name=\"input_a\")\n",
    "#b=tf.Variable(3,name=\"input_b\")\n",
    "c=tf.reduce_prod(a,name=\"mul_c\")\n",
    "d=tf.reduce_sum(a,name=\"add_d\")\n",
    "e=tf.reduce_sum([c,d],name=\"add_e\")\n",
    "init=tf.global_variables_initializer()\n",
    "sess=tf.Session()\n",
    "#with tf.Session() as sess:\n",
    "#init variable \n",
    "#sess.run(init)\n",
    "output=sess.run(e,feed_dict={a:[3,5]})   ##输出结果为23\n",
    "print(\"输出结果:\", output)\n",
    "\n",
    "writer=tf.summary.FileWriter('home/feigu/tmp',sess.graph)\n",
    "writer.close()\n",
    "sess.close()\n"
   ]
  },
  {
   "cell_type": "markdown",
   "metadata": {},
   "source": [
    "TensorFlow实现数据流图"
   ]
  },
  {
   "cell_type": "code",
   "execution_count": 62,
   "metadata": {},
   "outputs": [
    {
     "name": "stdout",
     "output_type": "stream",
     "text": [
      "14\n"
     ]
    }
   ],
   "source": [
    "#引入TensorFlow\n",
    "import tensorflow as tf\n",
    "#定义算子\n",
    "a=tf.constant(2)\n",
    "b=tf.constant(4)\n",
    "c=tf.multiply(a,b)\n",
    "d=tf.add(a,b)\n",
    "e=tf.add(c,d)\n",
    "#定义会话\n",
    "sess=tf.Session()\n",
    "#会话调用运算\n",
    "output=sess.run(e)\n",
    "#打印运算结果\n",
    "print(output)\n",
    "#关闭会话\n",
    "sess.close()\n"
   ]
  },
  {
   "cell_type": "markdown",
   "metadata": {},
   "source": [
    "可视化数据流图"
   ]
  },
  {
   "cell_type": "code",
   "execution_count": 65,
   "metadata": {},
   "outputs": [
    {
     "name": "stdout",
     "output_type": "stream",
     "text": [
      "14\n"
     ]
    }
   ],
   "source": [
    "#引入TensorFlow\n",
    "import tensorflow as tf\n",
    "#定义算子及算子名称\n",
    "a=tf.constant(2,name=\"input_a\")\n",
    "b=tf.constant(4,name=\"input_b\")\n",
    "c=tf.multiply(a,b,name=\"mul_c\")\n",
    "d=tf.add(a,b,name=\"add_d\")\n",
    "e=tf.add(c,d,name=\"add_e\")\n",
    "sess=tf.Session()\n",
    "output=sess.run(e)\n",
    "print(output)\n",
    "#将数据流图写入log文件\n",
    "writer=tf.summary.FileWriter('./tmp1',sess.graph)\n",
    "writer.close()\n",
    "sess.close()\n"
   ]
  },
  {
   "cell_type": "markdown",
   "metadata": {},
   "source": [
    "现实中的模型运算会更复杂，需要对图中的运算进行封装来获得更好的可视化， TensorFlow采用作用域(name space) 来组织运算的封装"
   ]
  },
  {
   "cell_type": "code",
   "execution_count": 66,
   "metadata": {
    "collapsed": true
   },
   "outputs": [],
   "source": [
    "import tensorflow as tf\n",
    "graph=tf.Graph()\n",
    "with graph.as_default():\n",
    "    in_1=tf.placeholder(tf.float32, shape=[], name=\"input_a\")\n",
    "    in_2=tf.placeholder(tf.float32, shape=[], name=\"input_b\")\n",
    "    const=tf.constant(3, dtype=tf.float32, name=\"static_value\")\n",
    "    with tf.name_scope(\"Transformation\"):\n",
    "        with tf.name_scope(\"A\"):\n",
    "            A_mul=tf.multiply(in_1, const)\n",
    "            A_out=tf.subtract(A_mul, in_1)\n",
    "        with tf.name_scope(\"B\"):\n",
    "            B_mul=tf.multiply(in_2, const)\n",
    "            B_out=tf.subtract(B_mul, in_2)\n",
    "        with tf.name_scope(\"C\"):\n",
    "            C_div=tf.div(A_out, B_out)\n",
    "            C_out=tf.add(C_div, const)\n",
    "        with tf.name_scope(\"D\"):\n",
    "            D_div=tf.div(B_out, A_out)\n",
    "            D_out=tf.add(D_div, const)\n",
    "            out=tf.maximum(C_out, D_out)\n",
    "writer=tf.summary.FileWriter('home/feigu/tmp', graph=graph)\n",
    "writer.close()\n"
   ]
  },
  {
   "cell_type": "markdown",
   "metadata": {},
   "source": [
    "TensorFlow分布式"
   ]
  },
  {
   "cell_type": "code",
   "execution_count": 67,
   "metadata": {},
   "outputs": [
    {
     "name": "stdout",
     "output_type": "stream",
     "text": [
      "0 0.00329668 0.0080343\n",
      "100 0.131829 0.312309\n",
      "200 0.148664 0.339445\n",
      "300 0.15483 0.340191\n",
      "400 0.159953 0.338435\n",
      "500 0.16495 0.336451\n",
      "600 0.169909 0.334456\n",
      "700 0.174836 0.332471\n",
      "800 0.179735 0.330497\n",
      "900 0.184604 0.328535\n",
      "0.189397\n",
      "0.326604\n"
     ]
    }
   ],
   "source": [
    "#这里单机有CPU及两个GPU卡：\n",
    "#一般把参数存储及简单操作定义在CPU上，比较复杂操作定义在各自的GPU上。\n",
    "import tensorflow as tf\n",
    "import numpy as np\n",
    "\n",
    "#生成输入数据\n",
    "N_GPU=2\n",
    "train_X = np.random.rand(100).astype(np.float32)\n",
    "train_Y = train_X * 0.2 + 0.3\n",
    "#参数存储及简单操作放在CPU上。\n",
    "with tf.device('/cpu:0'): \n",
    "    X = tf.placeholder(tf.float32)\n",
    "    Y = tf.placeholder(tf.float32)\n",
    "    w = tf.Variable(0.0, name=\"weight\")\n",
    "    b = tf.Variable(0.0, name=\"reminder\")    \n",
    "#优化操作放在GPU上操作,采用异步更新参数\n",
    "     #因只有两个GPU卡，所以只循环2次\n",
    "    for i in range(2):\n",
    "        with tf.device('/gpu:%d' %i): \n",
    "            y = w * X + b\n",
    "            loss = tf.reduce_mean(tf.square(y - Y))\n",
    "            init_op = tf.global_variables_initializer() \n",
    "            train_op = tf.train.GradientDescentOptimizer(0.01).minimize(loss)\n",
    "# 创建会话，训练模型\n",
    "    with tf.Session() as sess:\n",
    "        #初始化参数\n",
    "        sess.run(init_op)\n",
    "        for i in range(1000):\n",
    "            sess.run(train_op, feed_dict={X: train_Y, Y: train_Y})\n",
    "\n",
    "            if i % 100 == 0:\n",
    "                print( i, sess.run(w), sess.run(b))\n",
    "\n",
    "        print(sess.run(w))\n",
    "        print(sess.run(b))\n"
   ]
  },
  {
   "cell_type": "code",
   "execution_count": null,
   "metadata": {
    "collapsed": true
   },
   "outputs": [],
   "source": []
  }
 ],
 "metadata": {
  "kernelspec": {
   "display_name": "Python 3",
   "language": "python",
   "name": "python3"
  },
  "language_info": {
   "codemirror_mode": {
    "name": "ipython",
    "version": 3
   },
   "file_extension": ".py",
   "mimetype": "text/x-python",
   "name": "python",
   "nbconvert_exporter": "python",
   "pygments_lexer": "ipython3",
   "version": "3.6.3"
  }
 },
 "nbformat": 4,
 "nbformat_minor": 2
}
