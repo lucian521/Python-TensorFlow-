{
 "cells": [
  {
   "cell_type": "markdown",
   "metadata": {},
   "source": [
    "比较CPU与GPU性能"
   ]
  },
  {
   "cell_type": "markdown",
   "metadata": {},
   "source": [
    "（1）设备设为GPU"
   ]
  },
  {
   "cell_type": "code",
   "execution_count": 3,
   "metadata": {},
   "outputs": [
    {
     "name": "stdout",
     "output_type": "stream",
     "text": [
      "2.50045e+11\n",
      "\n",
      "\n",
      "\n",
      "Shape: (10000, 10000) Device: /gpu:0\n",
      "Time taken: 0:00:01.260781\n"
     ]
    }
   ],
   "source": [
    "import sys\n",
    "import numpy as np\n",
    "import tensorflow as tf\n",
    "from datetime import datetime\n",
    "\n",
    "device_name=\"/gpu:0\"\n",
    "\n",
    "shape=(int(10000),int(10000))\n",
    "\n",
    "with tf.device(device_name):\n",
    "    #形状为shap,元素服从minval和maxval之间的均匀分布\n",
    "    random_matrix = tf.random_uniform(shape=shape, minval=0, maxval=1)\n",
    "    dot_operation = tf.matmul(random_matrix, tf.transpose(random_matrix))\n",
    "    sum_operation = tf.reduce_sum(dot_operation)\n",
    "\n",
    "startTime = datetime.now()\n",
    "with tf.Session(config=tf.ConfigProto(log_device_placement=True)) as session:\n",
    "        result = session.run(sum_operation)\n",
    "        print(result)\n",
    "\n",
    "print(\"\\n\" * 2)\n",
    "print(\"Shape:\", shape, \"Device:\", device_name)\n",
    "print(\"Time taken:\", datetime.now() - startTime)\n"
   ]
  },
  {
   "cell_type": "markdown",
   "metadata": {},
   "source": [
    "（2）把设备改为CPU"
   ]
  },
  {
   "cell_type": "code",
   "execution_count": 2,
   "metadata": {},
   "outputs": [
    {
     "name": "stdout",
     "output_type": "stream",
     "text": [
      "2.49975e+11\n",
      "\n",
      "\n",
      "\n",
      "Shape: (10000, 10000) Device: /cpu:0\n",
      "Time taken: 0:00:04.087380\n"
     ]
    }
   ],
   "source": [
    "import sys\n",
    "import numpy as np\n",
    "import tensorflow as tf\n",
    "from datetime import datetime\n",
    "\n",
    "device_name=\"/cpu:0\"\n",
    "\n",
    "shape=(int(10000),int(10000))\n",
    "\n",
    "with tf.device(device_name):\n",
    "    #形状为shap,元素服从minval和maxval之间的均匀分布\n",
    "    random_matrix = tf.random_uniform(shape=shape, minval=0, maxval=1)\n",
    "    dot_operation = tf.matmul(random_matrix, tf.transpose(random_matrix))\n",
    "    sum_operation = tf.reduce_sum(dot_operation)\n",
    "\n",
    "startTime = datetime.now()\n",
    "with tf.Session(config=tf.ConfigProto(log_device_placement=True)) as session:\n",
    "        result = session.run(sum_operation)\n",
    "        print(result)\n",
    "\n",
    "print(\"\\n\" * 2)\n",
    "print(\"Shape:\", shape, \"Device:\", device_name)\n",
    "print(\"Time taken:\", datetime.now() - startTime)"
   ]
  },
  {
   "cell_type": "markdown",
   "metadata": {},
   "source": [
    "这个实例运算较简单，但即使如此，GPU也是CPU的近3倍"
   ]
  },
  {
   "cell_type": "markdown",
   "metadata": {},
   "source": [
    "实例：单GPU与多GPU性能"
   ]
  },
  {
   "cell_type": "code",
   "execution_count": 8,
   "metadata": {},
   "outputs": [
    {
     "name": "stdout",
     "output_type": "stream",
     "text": [
      "Single GPU computation time: 0:00:25.620191\n",
      "Multi GPU computation time: 0:00:13.572009\n"
     ]
    }
   ],
   "source": [
    "'''\n",
    "\"/cpu:0\": 表示CPU\n",
    "\"/gpu:0\": 表示第1块 GPU\n",
    "\"/gpu:1\":表示第2块 GPU\n",
    "'''\n",
    "\n",
    "import numpy as np\n",
    "import tensorflow as tf\n",
    "import datetime\n",
    "\n",
    "# 处理单元日志\n",
    "log_device_placement = True\n",
    "\n",
    "# 设置执行乘法次数\n",
    "n = 10\n",
    "'''\n",
    "实例: 在2个GPU上执行： A^n + B^n \n",
    " '''\n",
    "# 创建随机矩阵\n",
    "A = np.random.rand(10000, 10000).astype('float32')\n",
    "B = np.random.rand(10000, 10000).astype('float32')\n",
    "\n",
    "# 创建两个变量\n",
    "c1 = []\n",
    "c2 = []\n",
    "\n",
    "def matpow(M, n):\n",
    "    if n < 1: \n",
    "        return M\n",
    "    else:\n",
    "        return tf.matmul(M, matpow(M, n-1))\n",
    "'''\n",
    "使用单个GPU计算\n",
    "'''\n",
    "with tf.device('/gpu:0'):\n",
    "    a = tf.placeholder(tf.float32, [10000, 10000])\n",
    "    b = tf.placeholder(tf.float32, [10000, 10000])\n",
    "    # 计算 A^n and B^n 并把结果存储在 c1中\n",
    "    c1.append(matpow(a, n))\n",
    "    c1.append(matpow(b, n))\n",
    "\n",
    "with tf.device('/cpu:0'):\n",
    "  sum = tf.add_n(c1) #Addition of all elements in c1, i.e. A^n + B^n\n",
    "\n",
    "t1_1 = datetime.datetime.now()\n",
    "with tf.Session(config=tf.ConfigProto(log_device_placement=log_device_placement)) as sess:\n",
    "    # Run the op.\n",
    "    sess.run(sum, {a:A, b:B})\n",
    "t2_1 = datetime.datetime.now()\n",
    "\n",
    "'''\n",
    "使用多个GPU进行计算\n",
    "'''\n",
    "# 在GPU:0上计算 A^n\n",
    "with tf.device('/gpu:0'):\n",
    "    # 计算 A^n 并把结果存储在 c2\n",
    "    a = tf.placeholder(tf.float32, [10000, 10000])\n",
    "    c2.append(matpow(a, n))\n",
    "\n",
    "# GPU:1 computes B^n\n",
    "with tf.device('/gpu:1'):\n",
    "    # 计算 B^n并把结果存储在 c2\n",
    "    b = tf.placeholder(tf.float32, [10000, 10000])\n",
    "    c2.append(matpow(b, n))\n",
    "\n",
    "with tf.device('/cpu:0'):\n",
    "  sum = tf.add_n(c2) #对c2中的元素进行累加, 如A^n + B^n\n",
    "\n",
    "t1_2 = datetime.datetime.now()\n",
    "with tf.Session(config=tf.ConfigProto(log_device_placement=log_device_placement)) as sess:\n",
    "    # Run the op.\n",
    "    sess.run(sum, {a:A, b:B})\n",
    "t2_2 = datetime.datetime.now()\n",
    "\n",
    "print(\"Single GPU computation time: \" + str(t2_1-t1_1))\n",
    "print(\"Multi GPU computation time: \" + str(t2_2-t1_2))\n",
    "\n"
   ]
  },
  {
   "cell_type": "markdown",
   "metadata": {},
   "source": [
    "由此可见，使用多GPU计算比使用单个GPU计算，快近一倍。这里数据不大，如果数据比较大，差别会更明显"
   ]
  },
  {
   "cell_type": "code",
   "execution_count": null,
   "metadata": {
    "collapsed": true
   },
   "outputs": [],
   "source": []
  }
 ],
 "metadata": {
  "kernelspec": {
   "display_name": "Python 3",
   "language": "python",
   "name": "python3"
  },
  "language_info": {
   "codemirror_mode": {
    "name": "ipython",
    "version": 3
   },
   "file_extension": ".py",
   "mimetype": "text/x-python",
   "name": "python",
   "nbconvert_exporter": "python",
   "pygments_lexer": "ipython3",
   "version": "3.6.3"
  }
 },
 "nbformat": 4,
 "nbformat_minor": 2
}
