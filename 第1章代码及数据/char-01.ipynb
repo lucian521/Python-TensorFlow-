{
 "cells": [
  {
   "cell_type": "markdown",
   "metadata": {},
   "source": [
    "第一章  Numpy常用操作\n",
    "内容简介：\n",
    "NumPy是Python基础，更是数据科学的通用语言，而且与TensorFlow关系密切，所以我们把它列为第一章。\n",
    "\tNumPy为何如此重要？实际上Python本身含有列表（list）和数组（array），但对于大数据来说，这些结构有很多不足。因列表的元素可以是任何对象，因此列表中所保存的是对象的指针。这样为了保存一个简单的[1,2,3]，都需要有3个指针和三个整数对象。对于数值运算来说这种结构显然比较浪费内存和CPU计算时间。 至于array对象，它直接保存数值，和C语言的一维数组比较类似。但是由于它不支持多维，也没有各种运算函数，因此也不适合做数值运算。 \n",
    "\tNumPy（Numerical Python 的简称）的诞生弥补了这些不足，NumPy提供了两种基本的对象：ndarray（N-dimensional array object）和 ufunc（universal function object）。ndarray是存储单一数据类型的多维数组，而ufunc则是能够对数组进行处理的函数\n"
   ]
  },
  {
   "cell_type": "markdown",
   "metadata": {},
   "source": [
    "1.1生成ndarray的几种方式"
   ]
  },
  {
   "cell_type": "markdown",
   "metadata": {},
   "source": [
    "1.从已有数据中创建"
   ]
  },
  {
   "cell_type": "code",
   "execution_count": 3,
   "metadata": {},
   "outputs": [
    {
     "name": "stdout",
     "output_type": "stream",
     "text": [
      "[ 3.14  2.17  0.    1.    2.  ]\n",
      "<class 'numpy.ndarray'>\n"
     ]
    }
   ],
   "source": [
    "import numpy as np\n",
    "list1 = [3.14,2.17,0,1,2]\n",
    "nd1 = np.array(list1)\n",
    "print(nd1)\n",
    "print(type(nd1))\n"
   ]
  },
  {
   "cell_type": "code",
   "execution_count": 4,
   "metadata": {},
   "outputs": [
    {
     "name": "stdout",
     "output_type": "stream",
     "text": [
      "[[ 3.14  2.17  0.    1.    2.  ]\n",
      " [ 1.    2.    3.    4.    5.  ]]\n",
      "<class 'numpy.ndarray'>\n"
     ]
    }
   ],
   "source": [
    "list2 = [[3.14,2.17,0,1,2],[1,2,3,4,5]]\n",
    "nd2 = np.array(list2)\n",
    "print(nd2)\n",
    "print(type(nd2))\n"
   ]
  },
  {
   "cell_type": "markdown",
   "metadata": {},
   "source": [
    "2.利用random模块生成ndarray"
   ]
  },
  {
   "cell_type": "code",
   "execution_count": 5,
   "metadata": {},
   "outputs": [
    {
     "name": "stdout",
     "output_type": "stream",
     "text": [
      "[[ 0.48282926  0.11251513  0.76517679]\n",
      " [ 0.39617263  0.30461171  0.95276999]\n",
      " [ 0.53065876  0.47602011  0.59489704]]\n",
      "<class 'numpy.ndarray'>\n"
     ]
    }
   ],
   "source": [
    "import numpy as np\n",
    "\n",
    "nd5 = np.random.random([3,3])\n",
    "print(nd5)\n",
    "print(type(nd5))\n"
   ]
  },
  {
   "cell_type": "code",
   "execution_count": 6,
   "metadata": {},
   "outputs": [
    {
     "name": "stdout",
     "output_type": "stream",
     "text": [
      "[[-1.0856306   0.99734545  0.2829785 ]\n",
      " [-1.50629471 -0.57860025  1.65143654]]\n",
      "随机打乱后数据\n",
      "[[-1.50629471 -0.57860025  1.65143654]\n",
      " [-1.0856306   0.99734545  0.2829785 ]]\n",
      "<class 'numpy.ndarray'>\n"
     ]
    }
   ],
   "source": [
    "import numpy as np\n",
    "\n",
    "np.random.seed(123)\n",
    "nd5_1 = np.random.randn(2,3)\n",
    "print(nd5_1)\n",
    "np.random.shuffle(nd5_1)\n",
    "print(\"随机打乱后数据\")\n",
    "print(nd5_1)\n",
    "print(type(nd5_1))\n"
   ]
  },
  {
   "cell_type": "markdown",
   "metadata": {},
   "source": [
    "3.创建特定形状的多维数组"
   ]
  },
  {
   "cell_type": "code",
   "execution_count": 7,
   "metadata": {},
   "outputs": [
    {
     "name": "stdout",
     "output_type": "stream",
     "text": [
      "[[1 0 0]\n",
      " [0 2 0]\n",
      " [0 0 3]]\n"
     ]
    }
   ],
   "source": [
    "import numpy as np\n",
    "\n",
    "#生成全是0的3x3矩阵\n",
    "nd6 = np.zeros([3,3])\n",
    "#生成全是1的3x3矩阵\n",
    "nd7 = np.ones([3,3])\n",
    "#生成3阶的单位矩阵\n",
    "nd8= np.eye(3)\n",
    "#生成3阶对角矩阵\n",
    "print (np.diag([1, 2, 3]))\n"
   ]
  },
  {
   "cell_type": "code",
   "execution_count": 8,
   "metadata": {
    "collapsed": true
   },
   "outputs": [],
   "source": [
    "import numpy as np\n",
    "nd9 = np.random.random([5,5])\n",
    "np.savetxt(X=nd9,fname='./test2.txt')\n",
    "nd10 = np.loadtxt('./test2.txt')\n"
   ]
  },
  {
   "cell_type": "markdown",
   "metadata": {},
   "source": [
    "4.利用arange函数"
   ]
  },
  {
   "cell_type": "code",
   "execution_count": 9,
   "metadata": {},
   "outputs": [
    {
     "name": "stdout",
     "output_type": "stream",
     "text": [
      "[0 1 2 3 4 5 6 7 8 9]\n",
      "[0 1 2 3 4 5 6 7 8 9]\n",
      "[ 1.   1.5  2.   2.5  3.   3.5]\n",
      "[9 8 7 6 5 4 3 2 1 0]\n"
     ]
    }
   ],
   "source": [
    "import numpy as np\n",
    "\n",
    "print(np.arange(10))\n",
    "print(np.arange(0,10))\n",
    "print(np.arange(1, 4,0.5))\n",
    "print(np.arange(9, -1, -1))\n"
   ]
  },
  {
   "cell_type": "markdown",
   "metadata": {},
   "source": [
    "1.2存取元素"
   ]
  },
  {
   "cell_type": "code",
   "execution_count": 10,
   "metadata": {},
   "outputs": [
    {
     "data": {
      "text/plain": [
       "array([[ 1,  2],\n",
       "       [ 6,  7],\n",
       "       [11, 12],\n",
       "       [16, 17],\n",
       "       [21, 22]])"
      ]
     },
     "execution_count": 10,
     "metadata": {},
     "output_type": "execute_result"
    }
   ],
   "source": [
    "import numpy as np\n",
    "np.random.seed(2018)\n",
    "nd11 = np.random.random([10])\n",
    "#获取指定位置的数据，获取第4个元素\n",
    "nd11[3]\n",
    "#截取一段数据\n",
    "nd11[3:6]\n",
    "#截取固定间隔数据\n",
    "nd11[1:6:2]\n",
    "#倒序取数\n",
    "nd11[::-2]\n",
    "#截取一个多维数组的一个区域内数据\n",
    "nd12=np.arange(25).reshape([5,5])\n",
    "nd12[1:3,1:3]\n",
    "#截取一个多维数组中，数值在一个值域之内的数据\n",
    "nd12[(nd12>3)&(nd12<10)]\n",
    "#截取多维数组中，指定的行,如读取第2,3行\n",
    "nd12[[1,2]]  #或nd12[1:3,:]\n",
    "##截取多维数组中，指定的列,如读取第2,3列\n",
    "nd12[:,1:3]\n"
   ]
  },
  {
   "cell_type": "markdown",
   "metadata": {},
   "source": [
    "获取数组中的部分元素除通过指定索引标签外，还可以使用一些函数来实现，如通过random.choice函数可以从指定的样本中进行随机抽取数据。"
   ]
  },
  {
   "cell_type": "code",
   "execution_count": 12,
   "metadata": {},
   "outputs": [
    {
     "name": "stdout",
     "output_type": "stream",
     "text": [
      "随机可重复抽取\n",
      "[[ 18.   1.   7.  14.]\n",
      " [ 22.  23.  24.   1.]\n",
      " [ 24.   9.   8.  10.]]\n",
      "随机但不重复抽取\n",
      "[[  3.  20.   4.  10.]\n",
      " [ 13.  22.   5.  17.]\n",
      " [  8.  15.  24.   2.]]\n",
      "随机但按制度概率抽取\n",
      "[[ 20.   5.  12.  18.]\n",
      " [ 18.  15.   7.  14.]\n",
      " [ 23.  21.  24.  18.]]\n"
     ]
    }
   ],
   "source": [
    "import numpy as np\n",
    "from numpy import random as nr\n",
    "\n",
    "a=np.arange(1,25,dtype=float)\n",
    "c1=nr.choice(a,size=(3,4))  #size指定输出数组形状\n",
    "c2=nr.choice(a,size=(3,4),replace=False)  #replace缺省为True，即可重复抽取。\n",
    "#下式中参数p指定每个元素对应的抽取概率，缺省为每个元素被抽取的概率相同。\n",
    "c3=nr.choice(a,size=(3,4),p=a / np.sum(a))\n",
    "print(\"随机可重复抽取\")\n",
    "print(c1)\n",
    "print(\"随机但不重复抽取\")\n",
    "print(c2)\n",
    "print(\"随机但按制度概率抽取\")\n",
    "print(c3)\n"
   ]
  },
  {
   "cell_type": "markdown",
   "metadata": {},
   "source": [
    "1.3矩阵操作"
   ]
  },
  {
   "cell_type": "code",
   "execution_count": 13,
   "metadata": {},
   "outputs": [
    {
     "data": {
      "text/plain": [
       "array([[ 0.38142768, -5.29433928,  6.34332256],\n",
       "       [ 1.76114014,  1.09115706, -4.37965093],\n",
       "       [-0.61650199,  4.92267848, -3.55057072]])"
      ]
     },
     "execution_count": 13,
     "metadata": {},
     "output_type": "execute_result"
    }
   ],
   "source": [
    "import numpy as np\n",
    "\n",
    "nd14=np.arange(9).reshape([3,3])\n",
    "\n",
    "#矩阵转置\n",
    "np.transpose(nd14)\n",
    "\n",
    "#矩阵乘法运算\n",
    "a=np.arange(12).reshape([3,4])\n",
    "b=np.arange(8).reshape([4,2])\n",
    "a.dot(b)\n",
    "\n",
    "#求矩阵的迹\n",
    "a.trace()\n",
    "#计算矩阵行列式\n",
    "np.linalg.det(nd14)\n",
    "\n",
    "#计算逆矩阵\n",
    "c=np.random.random([3,3])\n",
    "np.linalg.solve(c,np.eye(3))\n"
   ]
  },
  {
   "cell_type": "markdown",
   "metadata": {},
   "source": [
    "1.4数据合并与展平"
   ]
  },
  {
   "cell_type": "markdown",
   "metadata": {},
   "source": [
    "（1）合并一维数组"
   ]
  },
  {
   "cell_type": "code",
   "execution_count": 14,
   "metadata": {},
   "outputs": [
    {
     "name": "stdout",
     "output_type": "stream",
     "text": [
      "[1 2 3 4 5 6]\n",
      "[1 2 3 4 5 6]\n"
     ]
    }
   ],
   "source": [
    "import numpy as np\n",
    "a=np.array([1,2,3])\n",
    "b=np.array([4,5,6])\n",
    "c=np.append(a,b)\n",
    "print(c)\n",
    "#或利用concatenate\n",
    "d=np.concatenate([a,b])\n",
    "print(d)\n"
   ]
  },
  {
   "cell_type": "markdown",
   "metadata": {},
   "source": [
    "（2）多维数组的合并"
   ]
  },
  {
   "cell_type": "code",
   "execution_count": 15,
   "metadata": {},
   "outputs": [
    {
     "name": "stdout",
     "output_type": "stream",
     "text": [
      "[[0 1]\n",
      " [2 3]\n",
      " [0 1]\n",
      " [2 3]]\n",
      "合并后数据维度 (4, 2)\n",
      "按列合并结果:\n",
      "[[0 1 0 1]\n",
      " [2 3 2 3]]\n",
      "合并后数据维度 (2, 4)\n"
     ]
    }
   ],
   "source": [
    "import numpy as np\n",
    "a=np.arange(4).reshape(2,2)\n",
    "b=np.arange(4).reshape(2,2)\n",
    "#按行合并\n",
    "c=np.append(a,b,axis=0)\n",
    "print(c)\n",
    "print(\"合并后数据维度\",c.shape)\n",
    "#按列合并\n",
    "d=np.append(a,b,axis=1)\n",
    "print(\"按列合并结果:\")\n",
    "print(d)\n",
    "print(\"合并后数据维度\",d.shape)\n"
   ]
  },
  {
   "cell_type": "markdown",
   "metadata": {},
   "source": [
    "(3)矩阵展平"
   ]
  },
  {
   "cell_type": "code",
   "execution_count": 16,
   "metadata": {},
   "outputs": [
    {
     "name": "stdout",
     "output_type": "stream",
     "text": [
      "[[0 1 2]\n",
      " [3 4 5]]\n",
      "按列优先,展平\n",
      "[0 3 1 4 2 5]\n",
      "按行优先,展平\n",
      "[0 1 2 3 4 5]\n"
     ]
    }
   ],
   "source": [
    "import numpy as np\n",
    "nd15=np.arange(6).reshape(2,-1)\n",
    "print(nd15)\n",
    "#按照列优先，展平。\n",
    "print(\"按列优先,展平\")\n",
    "print(nd15.ravel('F'))\n",
    "#按照行优先，展平。\n",
    "print(\"按行优先,展平\")\n",
    "print(nd15.ravel())\n"
   ]
  },
  {
   "cell_type": "markdown",
   "metadata": {},
   "source": [
    "1.5通用函数"
   ]
  },
  {
   "cell_type": "markdown",
   "metadata": {},
   "source": [
    "（1）使用math与numpy函数性能比较："
   ]
  },
  {
   "cell_type": "code",
   "execution_count": 17,
   "metadata": {},
   "outputs": [
    {
     "name": "stdout",
     "output_type": "stream",
     "text": [
      "math.sin: 0.25847399999999965\n",
      "numpy.sin: 0.03221700000000016\n"
     ]
    }
   ],
   "source": [
    "import time\n",
    "import math\n",
    "import numpy as np\n",
    "\n",
    "x = [i * 0.001 for i in np.arange(1000000)]\n",
    "start = time.clock()\n",
    "for i, t in enumerate(x):\n",
    "    x[i] = math.sin(t)\n",
    "print (\"math.sin:\", time.clock() - start )\n",
    "\n",
    "x = [i * 0.001 for i in np.arange(1000000)]\n",
    "x = np.array(x)\n",
    "start = time.clock()\n",
    "np.sin(x)\n",
    "print (\"numpy.sin:\", time.clock() - start )\n"
   ]
  },
  {
   "cell_type": "markdown",
   "metadata": {},
   "source": [
    "（2）使用循环与向量运算比较："
   ]
  },
  {
   "cell_type": "code",
   "execution_count": 18,
   "metadata": {},
   "outputs": [
    {
     "name": "stdout",
     "output_type": "stream",
     "text": [
      "dot = 249695.458127\n",
      " for loop----- Computation time = 535.2334670000002ms\n",
      "dot = 249695.458127\n",
      " verctor version---- Computation time = 110.32591699999995ms\n"
     ]
    }
   ],
   "source": [
    "import time\n",
    "import numpy as np\n",
    "\n",
    "x1 = np.random.rand(1000000)\n",
    "x2 = np.random.rand(1000000)\n",
    "##使用循环计算向量点积\n",
    "tic = time.process_time()\n",
    "dot = 0\n",
    "for i in range(len(x1)):\n",
    "    dot+= x1[i]*x2[i]\n",
    "toc = time.process_time()\n",
    "print (\"dot = \" + str(dot) + \"\\n for loop----- Computation time = \" + str(1000*(toc - tic)) + \"ms\")\n",
    "##使用numpy函数求点积\n",
    "tic = time.process_time()\n",
    "dot = 0\n",
    "dot = np.dot(x1,x2)\n",
    "toc = time.process_time()\n",
    "print (\"dot = \" + str(dot) + \"\\n verctor version---- Computation time = \" + str(1000*(toc - tic)) + \"ms\")\n"
   ]
  },
  {
   "cell_type": "markdown",
   "metadata": {},
   "source": [
    "1.6 广播机制"
   ]
  },
  {
   "cell_type": "code",
   "execution_count": 19,
   "metadata": {},
   "outputs": [
    {
     "name": "stdout",
     "output_type": "stream",
     "text": [
      "[ 0  2  4  6  8 10 12 14 16 18]\n",
      "[ 3  4  5  6  7  8  9 10 11 12]\n",
      "[ 0  1  4  9 16 25 36 49 64 81]\n",
      "[[ 0  2]\n",
      " [ 2  4]\n",
      " [ 4  6]\n",
      " [ 6  8]\n",
      " [ 8 10]]\n"
     ]
    }
   ],
   "source": [
    "import numpy as np\n",
    "a=np.arange(10)\n",
    "b=np.arange(10)\n",
    "#两个shape相同的数组相加\n",
    "print(a+b)\n",
    "#一个数组与标量相加\n",
    "print(a+3)\n",
    "#两个向量相乘\n",
    "print(a*b)\n",
    "\n",
    "#多维数组之间的运算\n",
    "c=np.arange(10).reshape([5,2])\n",
    "d=np.arange(2).reshape([1,2])\n",
    "#首先将d数组进行复制扩充为[5,2],如何复制请参考图1-2，然后相加。\n",
    "print(c+d)\n"
   ]
  },
  {
   "cell_type": "code",
   "execution_count": null,
   "metadata": {
    "collapsed": true
   },
   "outputs": [],
   "source": []
  }
 ],
 "metadata": {
  "kernelspec": {
   "display_name": "Python 3",
   "language": "python",
   "name": "python3"
  },
  "language_info": {
   "codemirror_mode": {
    "name": "ipython",
    "version": 3
   },
   "file_extension": ".py",
   "mimetype": "text/x-python",
   "name": "python",
   "nbconvert_exporter": "python",
   "pygments_lexer": "ipython3",
   "version": "3.6.3"
  }
 },
 "nbformat": 4,
 "nbformat_minor": 2
}
