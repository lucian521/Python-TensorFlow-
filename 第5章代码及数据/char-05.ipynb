{
 "cells": [
  {
   "cell_type": "markdown",
   "metadata": {},
   "source": [
    "以下是用Tensorflow来具体实现一个CRF,在代码前，先说明几个重要函数的功能：\n",
    "1）tf.contrib.crf.crf_log_likelihood\n",
    "在一个条件随机场里面计算标签序列的log-likelihood，其格式为：\n",
    "crf_log_likelihood(inputs,tag_indices,sequence_lengths,transition_params=None)\n",
    "2）tf.contrib.crf.viterbi_decode\n",
    "其作用就是返回最好的标签序列。这个函数只能够在测试时使用,在tensorflow外部解码。其格式为：\n",
    "viterbi_decode(score,transition_params) \n",
    "3）tf.contrib.crf.crf_decode\n",
    "在tensorflow内解码，其格式为：\n",
    "crf_decode(potentials,transition_params,sequence_length) \n"
   ]
  },
  {
   "cell_type": "code",
   "execution_count": 1,
   "metadata": {},
   "outputs": [
    {
     "name": "stdout",
     "output_type": "stream",
     "text": [
      "Accuracy: 16.32%\n",
      "Accuracy: 59.47%\n",
      "Accuracy: 70.53%\n",
      "Accuracy: 74.21%\n",
      "Accuracy: 78.42%\n",
      "Accuracy: 80.53%\n",
      "Accuracy: 82.63%\n",
      "Accuracy: 85.26%\n",
      "Accuracy: 87.37%\n",
      "Accuracy: 88.42%\n"
     ]
    }
   ],
   "source": [
    "import numpy as np\n",
    "import tensorflow as tf\n",
    "\n",
    "# 参数设置\n",
    "num_examples = 10\n",
    "num_words = 20\n",
    "num_features = 100\n",
    "num_tags = 5\n",
    "# 构建随机特征\n",
    "x = np.random.rand(num_examples, num_words, num_features).astype(np.float32)\n",
    "# 构建随机tag\n",
    "y = np.random.randint(\n",
    "    num_tags, size=[num_examples, num_words]).astype(np.int32)\n",
    "\n",
    "# 获取样本句长向量（因为每一个样本可能包含不一样多的词），在这里统一设为 num_words - 1，真实情况下根据需要设置\n",
    "sequence_lengths = np.full(num_examples, num_words - 1, dtype=np.int32)\n",
    "\n",
    "# 训练，评估模型\n",
    "with tf.Graph().as_default():\n",
    "    with tf.Session() as session:\n",
    "        x_t = tf.constant(x)\n",
    "        y_t = tf.constant(y)\n",
    "        sequence_lengths_t = tf.constant(sequence_lengths)\n",
    "\n",
    "        # 在这里设置一个无偏置的线性层\n",
    "        weights = tf.get_variable(\"weights\", [num_features, num_tags])\n",
    "        matricized_x_t = tf.reshape(x_t, [-1, num_features])\n",
    "        matricized_unary_scores = tf.matmul(matricized_x_t, weights)\n",
    "        unary_scores = tf.reshape(matricized_unary_scores,\n",
    "                                  [num_examples, num_words, num_tags])\n",
    "\n",
    "        # 计算log-likelihood并获得transition_params\n",
    "        log_likelihood, transition_params = tf.contrib.crf.crf_log_likelihood(\n",
    "            unary_scores, y_t, sequence_lengths_t)\n",
    "\n",
    "        # 进行解码（维特比算法），获得解码之后的序列viterbi_sequence和分数viterbi_score\n",
    "        viterbi_sequence, viterbi_score = tf.contrib.crf.crf_decode(\n",
    "            unary_scores, transition_params, sequence_lengths_t)\n",
    "\n",
    "        loss = tf.reduce_mean(-log_likelihood)\n",
    "        train_op = tf.train.GradientDescentOptimizer(0.01).minimize(loss)\n",
    "\n",
    "        session.run(tf.global_variables_initializer())\n",
    "\n",
    "        mask = (np.expand_dims(np.arange(num_words), axis=0) <     # np.arange()创建等差数组\n",
    "                np.expand_dims(sequence_lengths, axis=1))          # np.expand_dims()扩张维度\n",
    "\n",
    "        # 得到一个num_examples*num_words的二维数组，数据类型为布尔型，目的是对句长进行截断\n",
    "\n",
    "        # 将每个样本的sequence_lengths加起来，得到标签的总数\n",
    "        total_labels = np.sum(sequence_lengths)\n",
    "\n",
    "        # 进行训练\n",
    "        for i in range(1000):\n",
    "            tf_viterbi_sequence, _ = session.run([viterbi_sequence, train_op])\n",
    "            if i % 100 == 0:\n",
    "                correct_labels = np.sum((y == tf_viterbi_sequence) * mask)\n",
    "                accuracy = 100.0 * correct_labels / float(total_labels)\n",
    "                print(\"Accuracy: %.2f%%\" % accuracy)\n"
   ]
  },
  {
   "cell_type": "code",
   "execution_count": null,
   "metadata": {
    "collapsed": true
   },
   "outputs": [],
   "source": []
  }
 ],
 "metadata": {
  "kernelspec": {
   "display_name": "Python 3",
   "language": "python",
   "name": "python3"
  },
  "language_info": {
   "codemirror_mode": {
    "name": "ipython",
    "version": 3
   },
   "file_extension": ".py",
   "mimetype": "text/x-python",
   "name": "python",
   "nbconvert_exporter": "python",
   "pygments_lexer": "ipython3",
   "version": "3.6.3"
  }
 },
 "nbformat": 4,
 "nbformat_minor": 2
}
